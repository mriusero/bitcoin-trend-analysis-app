{
 "cells": [
  {
   "cell_type": "markdown",
   "metadata": {},
   "source": [
    "### Library_"
   ]
  },
  {
   "cell_type": "code",
   "execution_count": 62,
   "metadata": {},
   "outputs": [],
   "source": [
    "import pandas as pd\n",
    "from datetime import datetime, timezone\n",
    "from IPython.display import clear_output"
   ]
  },
  {
   "cell_type": "markdown",
   "metadata": {},
   "source": [
    "### #BTC Market History [dataset A]\n",
    "#### Origin_\n",
    "    URL du dataset_   \"https://www.kaggle.com/datasets/mczielinski/bitcoin-historical-data\"\n",
    "    \n",
    "    Origin file_      \"bitstampUSD_1-min_data_2012-01-01_to_2021-03-31.csv\"  \n",
    "\n",
    "    \n",
    "\n",
    "\n",
    "\n",
    "    \n",
    "\n"
   ]
  },
  {
   "cell_type": "markdown",
   "metadata": {},
   "source": [
    "#### Shape_"
   ]
  },
  {
   "cell_type": "code",
   "execution_count": 63,
   "metadata": {},
   "outputs": [
    {
     "name": "stdout",
     "output_type": "stream",
     "text": [
      "\n",
      "------ BTC Market History DataFrame ------\n",
      "\n",
      "<class 'pandas.core.frame.DataFrame'>\n",
      "RangeIndex: 4857377 entries, 0 to 4857376\n",
      "Data columns (total 8 columns):\n",
      " #   Column             Dtype  \n",
      "---  ------             -----  \n",
      " 0   Timestamp          int64  \n",
      " 1   Open               float64\n",
      " 2   High               float64\n",
      " 3   Low                float64\n",
      " 4   Close              float64\n",
      " 5   Volume_(BTC)       float64\n",
      " 6   Volume_(Currency)  float64\n",
      " 7   Weighted_Price     float64\n",
      "dtypes: float64(7), int64(1)\n",
      "memory usage: 296.5 MB\n"
     ]
    }
   ],
   "source": [
    "df = pd.read_csv(\"../input/bitstampUSD_1-min_data_2012-01-01_to_2021-03-31.csv\")\n",
    "print(\"\\n------ BTC Market History DataFrame ------\\n\")\n",
    "df.info()"
   ]
  },
  {
   "cell_type": "markdown",
   "metadata": {},
   "source": [
    "#### Content_\n",
    "\n",
    "    #Variables_\n",
    "\n",
    "      * Type \"datetime\" (1)  \n",
    "           - timestamp           : start time of time window (60s window), in Unix time\n",
    "           \n",
    "      * Type \"float\" (7) \n",
    "           - Open                : open price at start time window\n",
    "           - High                : high price within time window              \n",
    "           - Low                 : low price within time window              \n",
    "           - Close               : close price at end of time window            \n",
    "           - Volume_(BTC)        : volume of BTC transacted in this window      \n",
    "           - Volume_(Currency)   : Volume of corresponding currency transacted in this window \n",
    "           - Weighted_Price      : Volume Weighted Average Price [VWAP]\n",
    "           "
   ]
  },
  {
   "cell_type": "markdown",
   "metadata": {},
   "source": [
    "#### Period_"
   ]
  },
  {
   "cell_type": "code",
   "execution_count": 64,
   "metadata": {},
   "outputs": [
    {
     "name": "stdout",
     "output_type": "stream",
     "text": [
      "\n",
      "start_market (UTC) : 2011-12-31 07:52:00+00:00\n",
      "end_market (UTC) : 2021-03-31 00:00:00+00:00\n",
      "period : 3377 days 16:08:00\n"
     ]
    }
   ],
   "source": [
    "df[\"Timestamp\"] = pd.to_datetime(df[\"Timestamp\"], unit='s', utc=True)\n",
    "\n",
    "start_market = df[\"Timestamp\"].min()\n",
    "end_market = df[\"Timestamp\"].max()\n",
    "period = end_market - start_market\n",
    "\n",
    "print(f\"\\nstart_market (UTC) : {start_market}\\nend_market (UTC) : {end_market}\\nperiod : {period}\")"
   ]
  },
  {
   "cell_type": "markdown",
   "metadata": {},
   "source": [
    "#### Cleaning_"
   ]
  },
  {
   "cell_type": "code",
   "execution_count": 65,
   "metadata": {},
   "outputs": [
    {
     "name": "stdout",
     "output_type": "stream",
     "text": [
      "\n",
      "Empty values (Before cleaning) :\n",
      "-------------------------------------\n",
      "Timestamp                  0\n",
      "Open                 1243608\n",
      "High                 1243608\n",
      "Low                  1243608\n",
      "Close                1243608\n",
      "Volume_(BTC)         1243608\n",
      "Volume_(Currency)    1243608\n",
      "Weighted_Price       1243608\n",
      "dtype: int64\n",
      "\n",
      "Empty values (After cleaning) :\n",
      "------------------------------------\n",
      "Timestamp            0\n",
      "Open                 0\n",
      "High                 0\n",
      "Low                  0\n",
      "Close                0\n",
      "Volume_(BTC)         0\n",
      "Volume_(Currency)    0\n",
      "Weighted_Price       0\n",
      "dtype: int64\n"
     ]
    }
   ],
   "source": [
    "empty_before = df.isna().sum()\n",
    "print(f\"\\nEmpty values (Before cleaning) :\\n-------------------------------------\\n{empty_before}\")\n",
    "\n",
    "df = df.dropna()\n",
    "\n",
    "empty_after = df.isna().sum()\n",
    "print(f\"\\nEmpty values (After cleaning) :\\n------------------------------------\\n{empty_after}\")\n",
    "\n",
    "market_df = df.copy()"
   ]
  },
  {
   "cell_type": "markdown",
   "metadata": {},
   "source": [
    "### #BTC Twitter History [dataset B]\n",
    "#### Origin_\n",
    "\n",
    "      URL du dataset_    \"https://www.kaggle.com/datasets/kaushiksuresh147/bitcoin-tweets/data?select=Bitcoin_tweets.csv\"\n",
    "      \n",
    "      Oigin file_        \"Bitcoin_tweets.csv\" \n"
   ]
  },
  {
   "cell_type": "markdown",
   "metadata": {},
   "source": [
    "#### Shape_"
   ]
  },
  {
   "cell_type": "code",
   "execution_count": 66,
   "metadata": {},
   "outputs": [
    {
     "name": "stdout",
     "output_type": "stream",
     "text": [
      "------ Bitcoin market historical DataFrame ------\n",
      "\n",
      "<class 'pandas.core.frame.DataFrame'>\n",
      "RangeIndex: 4689354 entries, 0 to 4689353\n",
      "Data columns (total 13 columns):\n",
      " #   Column            Dtype \n",
      "---  ------            ----- \n",
      " 0   user_name         object\n",
      " 1   user_location     object\n",
      " 2   user_description  object\n",
      " 3   user_created      object\n",
      " 4   user_followers    object\n",
      " 5   user_friends      object\n",
      " 6   user_favourites   object\n",
      " 7   user_verified     object\n",
      " 8   date              object\n",
      " 9   text              object\n",
      " 10  hashtags          object\n",
      " 11  source            object\n",
      " 12  is_retweet        object\n",
      "dtypes: object(13)\n",
      "memory usage: 465.1+ MB\n"
     ]
    }
   ],
   "source": [
    "df_chunks = pd.read_csv(\"../input/Bitcoin_tweets.csv\", chunksize=100000,lineterminator='\\n')\n",
    "df = pd.concat(df_chunks)\n",
    "clear_output()\n",
    "\n",
    "print(\"------ Bitcoin market historical DataFrame ------\\n\")\n",
    "df.info()"
   ]
  },
  {
   "cell_type": "markdown",
   "metadata": {},
   "source": [
    "#### Content_\n",
    "\n",
    "    #Variables_ \n",
    "                                                             \n",
    "      * Type \"string\" (5)   \n",
    "           - user_name           : The name of the user, as they’ve defined it.\n",
    "           - user_location\t     : The user-defined location for this account’s profile.\n",
    "           - user_description    : The user-defined UTF-8 string describing their account.\n",
    "           - text  \t             : The actual UTF-8 text of the Tweet\n",
    "           - hashtags            : All the other hashtags posted in the tweet along with #Bitcoin & #btc\n",
    "\n",
    "      * Type \"numerical\" (3)\n",
    "           - user_followers\t     : The number of followers an account currently has.\n",
    "           - user_friends\t     : The number of friends an account currently has.\n",
    "           - user_favourites     : The number of favorites an account currently has.\n",
    "        \n",
    "      * Type \"datetime\" (2) \n",
    "           - user_created        : Time and date, when the account was created.\n",
    "           - date\t             : UTC time and date when the Tweet was created.\n",
    "        \n",
    "      * Type \"dichotomous\" (2)\n",
    "           - user_verified\t     : When true, indicates that the user has a verified account\n",
    "           - is_retweet          : Indicates whether this Tweet has been Retweeted by the authenticating user\n",
    "\n",
    "      * Type \"categorical\" (1)        \n",
    "           - source\t             : Utility used to post the Tweet, Tweets from the Twitter website have a source value - web\n",
    "        "
   ]
  },
  {
   "cell_type": "markdown",
   "metadata": {},
   "source": [
    "#### Period_"
   ]
  },
  {
   "cell_type": "code",
   "execution_count": 67,
   "metadata": {},
   "outputs": [
    {
     "name": "stdout",
     "output_type": "stream",
     "text": [
      "\n",
      "start_market (UTC) : 2021-02-05 10:52:04+00:00\n",
      "end_market (UTC) : 2023-01-09 23:59:54+00:00\n",
      "period : 703 days 13:07:50\n"
     ]
    }
   ],
   "source": [
    "df['date'] = pd.to_datetime(df['date'], errors='coerce', utc=True)\n",
    "\n",
    "start_tweets = df[\"date\"].min()\n",
    "end_tweets = df[\"date\"].max()\n",
    "period = end_tweets - start_tweets\n",
    "\n",
    "print(f\"\\nstart_market (UTC) : {start_tweets}\\nend_market (UTC) : {end_tweets}\\nperiod : {period}\")\n",
    "\n",
    "df = df.dropna(subset=['date'])"
   ]
  },
  {
   "cell_type": "markdown",
   "metadata": {},
   "source": [
    "#### Data cleaning_"
   ]
  },
  {
   "cell_type": "code",
   "execution_count": 68,
   "metadata": {},
   "outputs": [
    {
     "name": "stdout",
     "output_type": "stream",
     "text": [
      "\n",
      "Empty values (Before cleaning) :\n",
      "-------------------------------------\n",
      "user_name                63\n",
      "user_location       2336822\n",
      "user_description     519989\n",
      "user_created              0\n",
      "user_followers            0\n",
      "user_friends              0\n",
      "user_favourites           0\n",
      "user_verified             0\n",
      "date                      0\n",
      "text                      0\n",
      "hashtags              17516\n",
      "source                 4066\n",
      "is_retweet              752\n",
      "dtype: int64\n",
      "\n",
      "Empty values (After cleaning) :\n",
      "------------------------------------\n",
      "user_name           0\n",
      "user_location       0\n",
      "user_description    0\n",
      "user_created        0\n",
      "user_followers      0\n",
      "user_friends        0\n",
      "user_favourites     0\n",
      "user_verified       0\n",
      "date                0\n",
      "text                0\n",
      "hashtags            0\n",
      "source              0\n",
      "is_retweet          0\n",
      "dtype: int64\n"
     ]
    }
   ],
   "source": [
    "empty_before = df.isna().sum()\n",
    "print(f\"\\nEmpty values (Before cleaning) :\\n-------------------------------------\\n{empty_before}\")\n",
    "\n",
    "columns_to_fillna = ['user_name', 'user_location', 'user_description', 'hashtags', 'source', 'is_retweet']\n",
    "\n",
    "for column in columns_to_fillna:\n",
    "    df[column] = df[column].fillna(f'Uknw_{column}')\n",
    "\n",
    "empty_after = df.isna().sum()\n",
    "print(f\"\\nEmpty values (After cleaning) :\\n------------------------------------\\n{empty_after}\")\n",
    "\n",
    "tweets_df = df"
   ]
  },
  {
   "cell_type": "markdown",
   "metadata": {},
   "source": [
    "### #Filtery_\n",
    "\n",
    "**Bitcoin_market_historical [A]**\n",
    "\n",
    "- Date de début (UTC) : 2011-12-31 07:52:00+00:00   -->     Période : 3377 days, 16:08:00       <--     Date de fin (UTC) : 2021-03-31 00:00:00+00:00\n",
    "\n",
    "**Bitcoin_tweets_historical [B]**\n",
    "\n",
    "- Date de début (UTC) : 2021-02-05 10:52:04+00:00   -->     Période : 703 days 13:07:50     <--     Date de fin (UTC) : 2023-01-09 23:59:54+00:00"
   ]
  },
  {
   "cell_type": "code",
   "execution_count": 73,
   "metadata": {},
   "outputs": [
    {
     "name": "stdout",
     "output_type": "stream",
     "text": [
      "\n",
      "L'analyse peut démarrer le 2021-02-05 et se terminer le 2021-03-31, soit une période d'analyse de 53 days 13:07:56\n",
      "\n"
     ]
    }
   ],
   "source": [
    "starts = (start_market, start_tweets)\n",
    "ends = (end_market, end_tweets)\n",
    "\n",
    "start = max(starts)\n",
    "end = min(ends)\n",
    "\n",
    "joint_period = end - start \n",
    "\n",
    "print(f\"\\nL'analyse peut démarrer le {str(start)[:10]} et se terminer le {str(end)[:10]}, soit une période d'analyse de {joint_period}\\n\")"
   ]
  },
  {
   "cell_type": "code",
   "execution_count": 70,
   "metadata": {},
   "outputs": [
    {
     "name": "stdout",
     "output_type": "stream",
     "text": [
      "------ Bitcoin market historical DataFrame ------\n",
      "\n",
      "<class 'pandas.core.frame.DataFrame'>\n",
      "Index: 76996 entries, 4780269 to 4857376\n",
      "Data columns (total 8 columns):\n",
      " #   Column             Non-Null Count  Dtype              \n",
      "---  ------             --------------  -----              \n",
      " 0   Timestamp          76996 non-null  datetime64[ns, UTC]\n",
      " 1   Open               76996 non-null  float64            \n",
      " 2   High               76996 non-null  float64            \n",
      " 3   Low                76996 non-null  float64            \n",
      " 4   Close              76996 non-null  float64            \n",
      " 5   Volume_(BTC)       76996 non-null  float64            \n",
      " 6   Volume_(Currency)  76996 non-null  float64            \n",
      " 7   Weighted_Price     76996 non-null  float64            \n",
      "dtypes: datetime64[ns, UTC](1), float64(7)\n",
      "memory usage: 5.3 MB\n",
      "\n",
      "------ Bitcoin tweets historical DataFrame ------\n",
      "\n",
      "<class 'pandas.core.frame.DataFrame'>\n",
      "Index: 48583 entries, 0 to 48582\n",
      "Data columns (total 13 columns):\n",
      " #   Column            Non-Null Count  Dtype              \n",
      "---  ------            --------------  -----              \n",
      " 0   user_name         48583 non-null  object             \n",
      " 1   user_location     48583 non-null  object             \n",
      " 2   user_description  48583 non-null  object             \n",
      " 3   user_created      48583 non-null  object             \n",
      " 4   user_followers    48583 non-null  object             \n",
      " 5   user_friends      48583 non-null  object             \n",
      " 6   user_favourites   48583 non-null  object             \n",
      " 7   user_verified     48583 non-null  object             \n",
      " 8   date              48583 non-null  datetime64[ns, UTC]\n",
      " 9   text              48583 non-null  object             \n",
      " 10  hashtags          48583 non-null  object             \n",
      " 11  source            48583 non-null  object             \n",
      " 12  is_retweet        48583 non-null  object             \n",
      "dtypes: datetime64[ns, UTC](1), object(12)\n",
      "memory usage: 5.2+ MB\n"
     ]
    }
   ],
   "source": [
    "market_df = market_df[(market_df['Timestamp'] >= start) & (market_df['Timestamp'] <= end)]\n",
    "print(\"------ Bitcoin market historical DataFrame ------\\n\")\n",
    "market_df.info()\n",
    "\n",
    "tweets_df = tweets_df[(tweets_df['date'] >= start) & (tweets_df['date'] <= end)]\n",
    "print(\"\\n------ Bitcoin tweets historical DataFrame ------\\n\")\n",
    "tweets_df.info()"
   ]
  },
  {
   "cell_type": "markdown",
   "metadata": {},
   "source": [
    "### Export csv_"
   ]
  },
  {
   "cell_type": "code",
   "execution_count": 71,
   "metadata": {},
   "outputs": [],
   "source": [
    "market_df.to_csv(\"../output/Bitcoin_market_historical.csv\", index=False )\n",
    "tweets_df.to_csv(\"../output/Bitcoin_tweets_historical.csv\", index=False)"
   ]
  },
  {
   "cell_type": "markdown",
   "metadata": {},
   "source": [
    "```\n",
    "(Before) ├── input (2,41Go)\n",
    "         │   ├── Bitcoin_tweets.csv\n",
    "         │   └── bitstampUSD_1-min_data_2012-01-01_to_2021-03-31.csv\n",
    "         │\n",
    " (After) └── output (27,3Mo)\n",
    "             ├── Bitcoin_market_historical.csv\n",
    "             └── Bitcoin_tweets_historical.csv\n",
    "```"
   ]
  }
 ],
 "metadata": {
  "kernelspec": {
   "display_name": "Python 3 (ipykernel)",
   "language": "python",
   "name": "python3"
  },
  "language_info": {
   "codemirror_mode": {
    "name": "ipython",
    "version": 3
   },
   "file_extension": ".py",
   "mimetype": "text/x-python",
   "name": "python",
   "nbconvert_exporter": "python",
   "pygments_lexer": "ipython3",
   "version": "3.12.2"
  }
 },
 "nbformat": 4,
 "nbformat_minor": 4
}
