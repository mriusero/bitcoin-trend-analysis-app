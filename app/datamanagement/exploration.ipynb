{
 "cells": [
  {
   "cell_type": "markdown",
   "metadata": {},
   "source": [
    "# Phase 1 : Data Exploration"
   ]
  },
  {
   "cell_type": "markdown",
   "metadata": {},
   "source": [
    "## (1) Import des librairies"
   ]
  },
  {
   "cell_type": "code",
   "execution_count": 1,
   "metadata": {},
   "outputs": [],
   "source": [
    "import pandas as pd\n",
    "from datetime import datetime, timezone\n",
    "from IPython.display import clear_output\n",
    "import gc"
   ]
  },
  {
   "cell_type": "markdown",
   "metadata": {},
   "source": [
    "## (2) Dataset Exploration\n",
    "### (2.1) Dataset 1 : Bitcoin Historical Data\n",
    "#### (2.1.1) Description \n",
    "\n",
    "- **data origin** : https://www.kaggle.com\n",
    "\n",
    "- **URL du dataset** : https://www.kaggle.com/datasets/mczielinski/bitcoin-historical-data\n",
    "\n",
    "- **origin file** : \"bitstampUSD_1-min_data_2012-01-01_to_2021-03-31.csv\" \n",
    "\n",
    "- **Shape** : ( 8 Columns ; 4857377 Entries)\n",
    "\n",
    "- **Variables** :  \n",
    "\n",
    "  * int64 = (1)  \n",
    "      * Timestamp : *Start time of time window (60s window), in Unix time*\n",
    "                                                          \n",
    "  * object = (7)   \n",
    "      * Open : *Open price at start time window*\n",
    "      * High : *High price within time window*               \n",
    "      * Low : *Low price within time window*              \n",
    "      * Close : *Close price at end of time window*            \n",
    "      * Volume_(BTC) : *Volume of BTC transacted in this window*      \n",
    "      * Volume_(Currency) : *Volume of corresponding currency transacted in this window* \n",
    "      * Weighted_Price : VWAP *Volume Weighted Average Price*     "
   ]
  },
  {
   "cell_type": "code",
   "execution_count": 2,
   "metadata": {},
   "outputs": [
    {
     "name": "stdout",
     "output_type": "stream",
     "text": [
      "------ Bitcoin market historical DataFrame ------\n",
      "\n",
      "<class 'pandas.core.frame.DataFrame'>\n",
      "RangeIndex: 4857377 entries, 0 to 4857376\n",
      "Data columns (total 8 columns):\n",
      " #   Column             Dtype  \n",
      "---  ------             -----  \n",
      " 0   Timestamp          int64  \n",
      " 1   Open               float64\n",
      " 2   High               float64\n",
      " 3   Low                float64\n",
      " 4   Close              float64\n",
      " 5   Volume_(BTC)       float64\n",
      " 6   Volume_(Currency)  float64\n",
      " 7   Weighted_Price     float64\n",
      "dtypes: float64(7), int64(1)\n",
      "memory usage: 296.5 MB\n"
     ]
    },
    {
     "data": {
      "text/html": [
       "<div>\n",
       "<style scoped>\n",
       "    .dataframe tbody tr th:only-of-type {\n",
       "        vertical-align: middle;\n",
       "    }\n",
       "\n",
       "    .dataframe tbody tr th {\n",
       "        vertical-align: top;\n",
       "    }\n",
       "\n",
       "    .dataframe thead th {\n",
       "        text-align: right;\n",
       "    }\n",
       "</style>\n",
       "<table border=\"1\" class=\"dataframe\">\n",
       "  <thead>\n",
       "    <tr style=\"text-align: right;\">\n",
       "      <th></th>\n",
       "      <th>Timestamp</th>\n",
       "      <th>Open</th>\n",
       "      <th>High</th>\n",
       "      <th>Low</th>\n",
       "      <th>Close</th>\n",
       "      <th>Volume_(BTC)</th>\n",
       "      <th>Volume_(Currency)</th>\n",
       "      <th>Weighted_Price</th>\n",
       "    </tr>\n",
       "  </thead>\n",
       "  <tbody>\n",
       "    <tr>\n",
       "      <th>0</th>\n",
       "      <td>1325317920</td>\n",
       "      <td>4.39</td>\n",
       "      <td>4.39</td>\n",
       "      <td>4.39</td>\n",
       "      <td>4.39</td>\n",
       "      <td>0.455581</td>\n",
       "      <td>2.0</td>\n",
       "      <td>4.39</td>\n",
       "    </tr>\n",
       "    <tr>\n",
       "      <th>1</th>\n",
       "      <td>1325317980</td>\n",
       "      <td>NaN</td>\n",
       "      <td>NaN</td>\n",
       "      <td>NaN</td>\n",
       "      <td>NaN</td>\n",
       "      <td>NaN</td>\n",
       "      <td>NaN</td>\n",
       "      <td>NaN</td>\n",
       "    </tr>\n",
       "    <tr>\n",
       "      <th>2</th>\n",
       "      <td>1325318040</td>\n",
       "      <td>NaN</td>\n",
       "      <td>NaN</td>\n",
       "      <td>NaN</td>\n",
       "      <td>NaN</td>\n",
       "      <td>NaN</td>\n",
       "      <td>NaN</td>\n",
       "      <td>NaN</td>\n",
       "    </tr>\n",
       "    <tr>\n",
       "      <th>3</th>\n",
       "      <td>1325318100</td>\n",
       "      <td>NaN</td>\n",
       "      <td>NaN</td>\n",
       "      <td>NaN</td>\n",
       "      <td>NaN</td>\n",
       "      <td>NaN</td>\n",
       "      <td>NaN</td>\n",
       "      <td>NaN</td>\n",
       "    </tr>\n",
       "    <tr>\n",
       "      <th>4</th>\n",
       "      <td>1325318160</td>\n",
       "      <td>NaN</td>\n",
       "      <td>NaN</td>\n",
       "      <td>NaN</td>\n",
       "      <td>NaN</td>\n",
       "      <td>NaN</td>\n",
       "      <td>NaN</td>\n",
       "      <td>NaN</td>\n",
       "    </tr>\n",
       "  </tbody>\n",
       "</table>\n",
       "</div>"
      ],
      "text/plain": [
       "    Timestamp  Open  High   Low  Close  Volume_(BTC)  Volume_(Currency)  \\\n",
       "0  1325317920  4.39  4.39  4.39   4.39      0.455581                2.0   \n",
       "1  1325317980   NaN   NaN   NaN    NaN           NaN                NaN   \n",
       "2  1325318040   NaN   NaN   NaN    NaN           NaN                NaN   \n",
       "3  1325318100   NaN   NaN   NaN    NaN           NaN                NaN   \n",
       "4  1325318160   NaN   NaN   NaN    NaN           NaN                NaN   \n",
       "\n",
       "   Weighted_Price  \n",
       "0            4.39  \n",
       "1             NaN  \n",
       "2             NaN  \n",
       "3             NaN  \n",
       "4             NaN  "
      ]
     },
     "execution_count": 2,
     "metadata": {},
     "output_type": "execute_result"
    }
   ],
   "source": [
    "df = pd.read_csv(\"../data/input/bitstampUSD_1-min_data_2012-01-01_to_2021-03-31.csv\")\n",
    "print(\"------ Bitcoin market historical DataFrame ------\\n\")\n",
    "df.info()\n",
    "df.head(5) "
   ]
  },
  {
   "cell_type": "markdown",
   "metadata": {},
   "source": [
    "#### (2.1.2) Data cleaning\n",
    "**(a)** Time analysis\n",
    "- \"Timestamp\" column datetime casted with UTC \n",
    "- Measurment period identification"
   ]
  },
  {
   "cell_type": "code",
   "execution_count": 3,
   "metadata": {},
   "outputs": [
    {
     "name": "stdout",
     "output_type": "stream",
     "text": [
      "\n",
      "start_market (UTC) : 2011-12-31 07:52:00+00:00\n",
      "end_market (UTC) : 2021-03-31 00:00:00+00:00\n",
      "period : 3377 days 16:08:00\n"
     ]
    }
   ],
   "source": [
    "df[\"Timestamp\"] = pd.to_datetime(df[\"Timestamp\"], unit='s', utc=True)\n",
    "\n",
    "start_market = df[\"Timestamp\"].min()\n",
    "end_market = df[\"Timestamp\"].max()\n",
    "period = end_market - start_market\n",
    "\n",
    "print(f\"\\nstart_market (UTC) : {start_market}\\nend_market (UTC) : {end_market}\\nperiod : {period}\")"
   ]
  },
  {
   "cell_type": "markdown",
   "metadata": {},
   "source": [
    "**(b)** Drop NA \n",
    "- EMPTY VALUES -> From 4 857 377 to 3 613 769 entries = *1 243 608 empty entries deleted* "
   ]
  },
  {
   "cell_type": "code",
   "execution_count": 4,
   "metadata": {},
   "outputs": [
    {
     "name": "stdout",
     "output_type": "stream",
     "text": [
      "--> Empty values (before cleaning) :\n",
      "\n",
      "Timestamp                  0\n",
      "Open                 1243608\n",
      "High                 1243608\n",
      "Low                  1243608\n",
      "Close                1243608\n",
      "Volume_(BTC)         1243608\n",
      "Volume_(Currency)    1243608\n",
      "Weighted_Price       1243608\n",
      "dtype: int64\n",
      "\n",
      "--> Empty_values (after cleaning) :\n",
      "\n",
      "Timestamp            0\n",
      "Open                 0\n",
      "High                 0\n",
      "Low                  0\n",
      "Close                0\n",
      "Volume_(BTC)         0\n",
      "Volume_(Currency)    0\n",
      "Weighted_Price       0\n",
      "dtype: int64\n",
      "\n"
     ]
    }
   ],
   "source": [
    "empty = df.isna().sum()\n",
    "print(f\"--> Empty values (before cleaning) :\\n\\n{empty}\")\n",
    "\n",
    "df = df.dropna()\n",
    "\n",
    "empty = df.isna().sum()\n",
    "print(f\"\\n--> Empty_values (after cleaning) :\\n\\n{empty}\\n\")\n",
    "\n",
    "market_df = df.copy()\n"
   ]
  },
  {
   "cell_type": "markdown",
   "metadata": {},
   "source": [
    "### (2.2) Dataset 2 : Bitcoin Historical Tweets\n",
    "#### (2.2.1) Description \n",
    "\n",
    "- **data origin** : https://www.kaggle.com\n",
    "\n",
    "- **URL du dataset** : https://www.kaggle.com/datasets/kaushiksuresh147/bitcoin-tweets/data?select=Bitcoin_tweets.csv\n",
    "\n",
    "- **origin file** : \"Bitcoin_tweets.csv\" \n",
    "\n",
    "- **Shape** : ( 13 Columns ; 4 689 354 Entries)\n",
    "\n",
    "- **Variables** :  \n",
    "                                                         \n",
    "  * object = (13)   \n",
    "    - user_name\t         : *The name of the user, as they’ve defined it.*\n",
    "    - user_location\t     : *The user-defined location for this account’s profile.*\n",
    "    - user_description   : *The user-defined UTF-8 string describing their account.*\n",
    "    - user_created       : *Time and date, when the account was created.*\n",
    "    - user_followers\t   : *The number of followers an account currently has.*\n",
    "    - user_friends\t     : *The number of friends an account currently has.*\n",
    "    - user_favourites\t   : *The number of favorites an account currently has*\n",
    "    - user_verified\t     : *When true, indicates that the user has a verified account*\n",
    "    - date\t             : *UTC time and date when the Tweet was created*\n",
    "    - text  \t           : *The actual UTF-8 text of the Tweet*\n",
    "    - hashtags\t         : *All the other hashtags posted in the tweet along with #Bitcoin & #btc*\n",
    "    - source\t           : *Utility used to post the Tweet, Tweets from the Twitter website have a source value - web*\n",
    "    - is_retweet\t       : *Indicates whether this Tweet has been Retweeted by the authenticating user.*"
   ]
  },
  {
   "cell_type": "code",
   "execution_count": 5,
   "metadata": {},
   "outputs": [
    {
     "name": "stdout",
     "output_type": "stream",
     "text": [
      "------ Bitcoin market historical DataFrame ------\n",
      "\n",
      "<class 'pandas.core.frame.DataFrame'>\n",
      "RangeIndex: 4689354 entries, 0 to 4689353\n",
      "Data columns (total 13 columns):\n",
      " #   Column            Dtype \n",
      "---  ------            ----- \n",
      " 0   user_name         object\n",
      " 1   user_location     object\n",
      " 2   user_description  object\n",
      " 3   user_created      object\n",
      " 4   user_followers    object\n",
      " 5   user_friends      object\n",
      " 6   user_favourites   object\n",
      " 7   user_verified     object\n",
      " 8   date              object\n",
      " 9   text              object\n",
      " 10  hashtags          object\n",
      " 11  source            object\n",
      " 12  is_retweet        object\n",
      "dtypes: object(13)\n",
      "memory usage: 465.1+ MB\n"
     ]
    },
    {
     "data": {
      "text/html": [
       "<div>\n",
       "<style scoped>\n",
       "    .dataframe tbody tr th:only-of-type {\n",
       "        vertical-align: middle;\n",
       "    }\n",
       "\n",
       "    .dataframe tbody tr th {\n",
       "        vertical-align: top;\n",
       "    }\n",
       "\n",
       "    .dataframe thead th {\n",
       "        text-align: right;\n",
       "    }\n",
       "</style>\n",
       "<table border=\"1\" class=\"dataframe\">\n",
       "  <thead>\n",
       "    <tr style=\"text-align: right;\">\n",
       "      <th></th>\n",
       "      <th>user_name</th>\n",
       "      <th>user_location</th>\n",
       "      <th>user_description</th>\n",
       "      <th>user_created</th>\n",
       "      <th>user_followers</th>\n",
       "      <th>user_friends</th>\n",
       "      <th>user_favourites</th>\n",
       "      <th>user_verified</th>\n",
       "      <th>date</th>\n",
       "      <th>text</th>\n",
       "      <th>hashtags</th>\n",
       "      <th>source</th>\n",
       "      <th>is_retweet</th>\n",
       "    </tr>\n",
       "  </thead>\n",
       "  <tbody>\n",
       "    <tr>\n",
       "      <th>0</th>\n",
       "      <td>DeSota Wilson</td>\n",
       "      <td>Atlanta, GA</td>\n",
       "      <td>Biz Consultant, real estate, fintech, startups...</td>\n",
       "      <td>2009-04-26 20:05:09</td>\n",
       "      <td>8534.0</td>\n",
       "      <td>7605</td>\n",
       "      <td>4838</td>\n",
       "      <td>False</td>\n",
       "      <td>2021-02-10 23:59:04</td>\n",
       "      <td>Blue Ridge Bank shares halted by NYSE after #b...</td>\n",
       "      <td>['bitcoin']</td>\n",
       "      <td>Twitter Web App</td>\n",
       "      <td>False</td>\n",
       "    </tr>\n",
       "    <tr>\n",
       "      <th>1</th>\n",
       "      <td>CryptoND</td>\n",
       "      <td>NaN</td>\n",
       "      <td>😎 BITCOINLIVE is a Dutch platform aimed at inf...</td>\n",
       "      <td>2019-10-17 20:12:10</td>\n",
       "      <td>6769.0</td>\n",
       "      <td>1532</td>\n",
       "      <td>25483</td>\n",
       "      <td>False</td>\n",
       "      <td>2021-02-10 23:58:48</td>\n",
       "      <td>😎 Today, that's this #Thursday, we will do a \"...</td>\n",
       "      <td>['Thursday', 'Btc', 'wallet', 'security']</td>\n",
       "      <td>Twitter for Android</td>\n",
       "      <td>False</td>\n",
       "    </tr>\n",
       "    <tr>\n",
       "      <th>2</th>\n",
       "      <td>Tdlmatias</td>\n",
       "      <td>London, England</td>\n",
       "      <td>IM Academy : The best #forex, #SelfEducation, ...</td>\n",
       "      <td>2014-11-10 10:50:37</td>\n",
       "      <td>128.0</td>\n",
       "      <td>332</td>\n",
       "      <td>924</td>\n",
       "      <td>False</td>\n",
       "      <td>2021-02-10 23:54:48</td>\n",
       "      <td>Guys evening, I have read this article about B...</td>\n",
       "      <td>NaN</td>\n",
       "      <td>Twitter Web App</td>\n",
       "      <td>False</td>\n",
       "    </tr>\n",
       "    <tr>\n",
       "      <th>3</th>\n",
       "      <td>Crypto is the future</td>\n",
       "      <td>NaN</td>\n",
       "      <td>I will post a lot of buying signals for BTC tr...</td>\n",
       "      <td>2019-09-28 16:48:12</td>\n",
       "      <td>625.0</td>\n",
       "      <td>129</td>\n",
       "      <td>14</td>\n",
       "      <td>False</td>\n",
       "      <td>2021-02-10 23:54:33</td>\n",
       "      <td>$BTC A big chance in a billion! Price: \\487264...</td>\n",
       "      <td>['Bitcoin', 'FX', 'BTC', 'crypto']</td>\n",
       "      <td>dlvr.it</td>\n",
       "      <td>False</td>\n",
       "    </tr>\n",
       "    <tr>\n",
       "      <th>4</th>\n",
       "      <td>Alex Kirchmaier 🇦🇹🇸🇪 #FactsSuperspreader</td>\n",
       "      <td>Europa</td>\n",
       "      <td>Co-founder @RENJERJerky | Forbes 30Under30 | I...</td>\n",
       "      <td>2016-02-03 13:15:55</td>\n",
       "      <td>1249.0</td>\n",
       "      <td>1472</td>\n",
       "      <td>10482</td>\n",
       "      <td>False</td>\n",
       "      <td>2021-02-10 23:54:06</td>\n",
       "      <td>This network is secured by 9 508 nodes as of t...</td>\n",
       "      <td>['BTC']</td>\n",
       "      <td>Twitter Web App</td>\n",
       "      <td>False</td>\n",
       "    </tr>\n",
       "  </tbody>\n",
       "</table>\n",
       "</div>"
      ],
      "text/plain": [
       "                                  user_name    user_location  \\\n",
       "0                             DeSota Wilson      Atlanta, GA   \n",
       "1                                  CryptoND              NaN   \n",
       "2                                 Tdlmatias  London, England   \n",
       "3                      Crypto is the future              NaN   \n",
       "4  Alex Kirchmaier 🇦🇹🇸🇪 #FactsSuperspreader           Europa   \n",
       "\n",
       "                                    user_description         user_created  \\\n",
       "0  Biz Consultant, real estate, fintech, startups...  2009-04-26 20:05:09   \n",
       "1  😎 BITCOINLIVE is a Dutch platform aimed at inf...  2019-10-17 20:12:10   \n",
       "2  IM Academy : The best #forex, #SelfEducation, ...  2014-11-10 10:50:37   \n",
       "3  I will post a lot of buying signals for BTC tr...  2019-09-28 16:48:12   \n",
       "4  Co-founder @RENJERJerky | Forbes 30Under30 | I...  2016-02-03 13:15:55   \n",
       "\n",
       "  user_followers user_friends user_favourites user_verified  \\\n",
       "0         8534.0         7605            4838         False   \n",
       "1         6769.0         1532           25483         False   \n",
       "2          128.0          332             924         False   \n",
       "3          625.0          129              14         False   \n",
       "4         1249.0         1472           10482         False   \n",
       "\n",
       "                  date                                               text  \\\n",
       "0  2021-02-10 23:59:04  Blue Ridge Bank shares halted by NYSE after #b...   \n",
       "1  2021-02-10 23:58:48  😎 Today, that's this #Thursday, we will do a \"...   \n",
       "2  2021-02-10 23:54:48  Guys evening, I have read this article about B...   \n",
       "3  2021-02-10 23:54:33  $BTC A big chance in a billion! Price: \\487264...   \n",
       "4  2021-02-10 23:54:06  This network is secured by 9 508 nodes as of t...   \n",
       "\n",
       "                                    hashtags               source is_retweet  \n",
       "0                                ['bitcoin']      Twitter Web App      False  \n",
       "1  ['Thursday', 'Btc', 'wallet', 'security']  Twitter for Android      False  \n",
       "2                                        NaN      Twitter Web App      False  \n",
       "3         ['Bitcoin', 'FX', 'BTC', 'crypto']              dlvr.it      False  \n",
       "4                                    ['BTC']      Twitter Web App      False  "
      ]
     },
     "execution_count": 5,
     "metadata": {},
     "output_type": "execute_result"
    }
   ],
   "source": [
    "df_chunks = pd.read_csv(\"../data/input/Bitcoin_tweets.csv\", chunksize=100000,lineterminator='\\n')\n",
    "df = pd.concat(df_chunks)\n",
    "\n",
    "clear_output()\n",
    "print(\"------ Bitcoin market historical DataFrame ------\\n\")\n",
    "df.info()\n",
    "df.head(5)"
   ]
  },
  {
   "cell_type": "markdown",
   "metadata": {},
   "source": [
    "#### (2.1.3) Nettoyage des données\n",
    "\n",
    "**(a)** Dans l'objectif d'analyser la corrélation entre le corps de texte d'un tweet et le cours du BTC, seul les champs \"date\" et \"texte\" sont essentiels à 100% :\n",
    "\n",
    "- date -> *conversion en type datetime + suppression des dates nulles (66 entries)*"
   ]
  },
  {
   "cell_type": "code",
   "execution_count": 6,
   "metadata": {},
   "outputs": [
    {
     "name": "stdout",
     "output_type": "stream",
     "text": [
      "\n",
      "start_market (UTC) : 2021-02-05 10:52:04+00:00\n",
      "end_market (UTC) : 2023-01-09 23:59:54+00:00\n",
      "period : 703 days 13:07:50\n"
     ]
    }
   ],
   "source": [
    "df['date'] = pd.to_datetime(df['date'], errors='coerce', utc=True)\n",
    "\n",
    "start_tweets = df[\"date\"].min()\n",
    "end_tweets = df[\"date\"].max()\n",
    "period = end_tweets - start_tweets\n",
    "\n",
    "print(f\"\\nstart_market (UTC) : {start_tweets}\\nend_market (UTC) : {end_tweets}\\nperiod : {period}\")\n",
    "\n",
    "df = df.dropna(subset=['date'])"
   ]
  },
  {
   "cell_type": "markdown",
   "metadata": {},
   "source": [
    "**(b)** Pour les catégories qui contiennent des valeurs nulles, définition d'une key value avec le préfiwe 'Uknw' : \n",
    "\n",
    "- user_name, user_location, user_description, hashtags, source, is_retweet -> *unkown category key definition*"
   ]
  },
  {
   "cell_type": "code",
   "execution_count": 7,
   "metadata": {},
   "outputs": [
    {
     "name": "stdout",
     "output_type": "stream",
     "text": [
      "--> Empty_values (before cleaning) :\n",
      "\n",
      "user_name                63\n",
      "user_location       2336822\n",
      "user_description     519989\n",
      "user_created              0\n",
      "user_followers            0\n",
      "user_friends              0\n",
      "user_favourites           0\n",
      "user_verified             0\n",
      "date                      0\n",
      "text                      0\n",
      "hashtags              17516\n",
      "source                 4066\n",
      "is_retweet              752\n",
      "dtype: int64\n",
      "--> Empty_values (after cleaning) :\n",
      "\n",
      "user_name           0\n",
      "user_location       0\n",
      "user_description    0\n",
      "user_created        0\n",
      "user_followers      0\n",
      "user_friends        0\n",
      "user_favourites     0\n",
      "user_verified       0\n",
      "date                0\n",
      "text                0\n",
      "hashtags            0\n",
      "source              0\n",
      "is_retweet          0\n",
      "dtype: int64\n"
     ]
    }
   ],
   "source": [
    "empty = df.isna().sum()\n",
    "print(f\"--> Empty_values (before cleaning) :\\n\\n{empty}\")\n",
    "\n",
    "columns_to_fillna = ['user_name', 'user_location', 'user_description', 'hashtags', 'source', 'is_retweet']\n",
    "\n",
    "for column in columns_to_fillna:\n",
    "    df[column] = df[column].fillna(f'Uknw_{column}')\n",
    "\n",
    "empty = df.isna().sum()\n",
    "print(f\"--> Empty_values (after cleaning) :\\n\\n{empty}\")\n",
    "\n",
    "tweets_df = df"
   ]
  },
  {
   "cell_type": "markdown",
   "metadata": {},
   "source": [
    "### (2.3) Filtrage des données sur la période\n",
    "\n",
    "#### (2.3.1) Identification de la période\n",
    "\n",
    "**Bitcoin_market_historical**\n",
    "\n",
    "- Date de début (UTC) : 2011-12-31 07:52:00+00:00   -->     Période : 3377 days, 16:08:00       <--     Date de fin (UTC) : 2021-03-31 00:00:00+00:00\n",
    "\n",
    "**Bitcoin_tweets_historical**\n",
    "\n",
    "- Date de début (UTC) : 2021-02-05 10:52:04+00:00   -->     Période : 703 days 13:07:50     <--     Date de fin (UTC) : 2023-01-09 23:59:54+00:00"
   ]
  },
  {
   "cell_type": "code",
   "execution_count": 8,
   "metadata": {},
   "outputs": [
    {
     "name": "stdout",
     "output_type": "stream",
     "text": [
      "L'analyse peut démarrer le 2021-02-05 et se terminer le 2021-03-31, soit une période d'analyse de 53 days 13:07:56\n"
     ]
    }
   ],
   "source": [
    "starts = (start_market, start_tweets)\n",
    "ends = (end_market, end_tweets)\n",
    "\n",
    "start = max(starts)\n",
    "end = min(ends)\n",
    "\n",
    "joint_period = end - start \n",
    "\n",
    "print(f\"L'analyse peut démarrer le {str(start)[:10]} et se terminer le {str(end)[:10]}, soit une période d'analyse de {joint_period}\")"
   ]
  },
  {
   "cell_type": "markdown",
   "metadata": {},
   "source": [
    "#### (2.3.2) Filtrage "
   ]
  },
  {
   "cell_type": "code",
   "execution_count": 9,
   "metadata": {},
   "outputs": [
    {
     "name": "stdout",
     "output_type": "stream",
     "text": [
      "------ Bitcoin market historical DataFrame ------\n",
      "\n",
      "<class 'pandas.core.frame.DataFrame'>\n",
      "Index: 76996 entries, 4780269 to 4857376\n",
      "Data columns (total 8 columns):\n",
      " #   Column             Non-Null Count  Dtype              \n",
      "---  ------             --------------  -----              \n",
      " 0   Timestamp          76996 non-null  datetime64[ns, UTC]\n",
      " 1   Open               76996 non-null  float64            \n",
      " 2   High               76996 non-null  float64            \n",
      " 3   Low                76996 non-null  float64            \n",
      " 4   Close              76996 non-null  float64            \n",
      " 5   Volume_(BTC)       76996 non-null  float64            \n",
      " 6   Volume_(Currency)  76996 non-null  float64            \n",
      " 7   Weighted_Price     76996 non-null  float64            \n",
      "dtypes: datetime64[ns, UTC](1), float64(7)\n",
      "memory usage: 5.3 MB\n",
      "\n",
      "------ Bitcoin tweets historical DataFrame ------\n",
      "\n",
      "<class 'pandas.core.frame.DataFrame'>\n",
      "Index: 48583 entries, 0 to 48582\n",
      "Data columns (total 13 columns):\n",
      " #   Column            Non-Null Count  Dtype              \n",
      "---  ------            --------------  -----              \n",
      " 0   user_name         48583 non-null  object             \n",
      " 1   user_location     48583 non-null  object             \n",
      " 2   user_description  48583 non-null  object             \n",
      " 3   user_created      48583 non-null  object             \n",
      " 4   user_followers    48583 non-null  object             \n",
      " 5   user_friends      48583 non-null  object             \n",
      " 6   user_favourites   48583 non-null  object             \n",
      " 7   user_verified     48583 non-null  object             \n",
      " 8   date              48583 non-null  datetime64[ns, UTC]\n",
      " 9   text              48583 non-null  object             \n",
      " 10  hashtags          48583 non-null  object             \n",
      " 11  source            48583 non-null  object             \n",
      " 12  is_retweet        48583 non-null  object             \n",
      "dtypes: datetime64[ns, UTC](1), object(12)\n",
      "memory usage: 5.2+ MB\n"
     ]
    }
   ],
   "source": [
    "market_df = market_df[(market_df['Timestamp'] >= start) & (market_df['Timestamp'] <= end)]\n",
    "print(\"------ Bitcoin market historical DataFrame ------\\n\")\n",
    "market_df.info()\n",
    "\n",
    "tweets_df = tweets_df[(tweets_df['date'] >= start) & (tweets_df['date'] <= end)]\n",
    "print(\"\\n------ Bitcoin tweets historical DataFrame ------\\n\")\n",
    "tweets_df.info()"
   ]
  },
  {
   "cell_type": "markdown",
   "metadata": {},
   "source": [
    "### (2.4) Export csv"
   ]
  },
  {
   "cell_type": "code",
   "execution_count": 10,
   "metadata": {},
   "outputs": [],
   "source": [
    "market_df.to_csv(\"../data/output/Bitcoin_market_historical.csv\")\n",
    "tweets_df.to_csv(\"../data/output/Bitcoin_tweets_historical.csv\")"
   ]
  },
  {
   "cell_type": "markdown",
   "metadata": {},
   "source": [
    "```\n",
    "├── input (2,41Go)\n",
    "│   ├── Bitcoin_tweets.csv\n",
    "│   └── bitstampUSD_1-min_data_2012-01-01_to_2021-03-31.csv\n",
    "└── output (27,3Mo)\n",
    "    ├── Bitcoin_market_historical.csv\n",
    "    └── Bitcoin_tweets_historical.csv\n",
    "```"
   ]
  },
  {
   "cell_type": "markdown",
   "metadata": {},
   "source": [
    "## (3) Libération mémoire"
   ]
  },
  {
   "cell_type": "code",
   "execution_count": 11,
   "metadata": {},
   "outputs": [
    {
     "data": {
      "text/plain": [
       "0"
      ]
     },
     "execution_count": 11,
     "metadata": {},
     "output_type": "execute_result"
    }
   ],
   "source": [
    "del  column, columns_to_fillna, df, df_chunks, empty, end, ends, end_market, end_tweets, joint_period, market_df, period, start_market, start_tweets, start, starts, tweets_df\n",
    "gc.collect()"
   ]
  }
 ],
 "metadata": {
  "kernelspec": {
   "display_name": ".venv",
   "language": "python",
   "name": "python3"
  },
  "language_info": {
   "codemirror_mode": {
    "name": "ipython",
    "version": 3
   },
   "file_extension": ".py",
   "mimetype": "text/x-python",
   "name": "python",
   "nbconvert_exporter": "python",
   "pygments_lexer": "ipython3",
   "version": "3.12.2"
  }
 },
 "nbformat": 4,
 "nbformat_minor": 2
}
